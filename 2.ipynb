{
  "nbformat": 4,
  "nbformat_minor": 0,
  "metadata": {
    "colab": {
      "provenance": []
    },
    "kernelspec": {
      "name": "python3",
      "display_name": "Python 3"
    },
    "language_info": {
      "name": "python"
    }
  },
  "cells": [
    {
      "cell_type": "code",
      "execution_count": 1,
      "metadata": {
        "colab": {
          "base_uri": "https://localhost:8080/"
        },
        "id": "nGNY4JFpQaoP",
        "outputId": "b78d4d3f-c4c4-4fa6-f738-d4a0b23af040"
      },
      "outputs": [
        {
          "output_type": "stream",
          "name": "stdout",
          "text": [
            "    YearsExperience    Salary\n",
            "0               1.1   39343.0\n",
            "1               1.3   46205.0\n",
            "2               1.5   37731.0\n",
            "3               2.0   43525.0\n",
            "4               2.2   39891.0\n",
            "5               2.9   56642.0\n",
            "6               3.0   60150.0\n",
            "7               3.2   54445.0\n",
            "8               3.2   64445.0\n",
            "9               3.7   57189.0\n",
            "10              3.9   63218.0\n",
            "11              4.0   55794.0\n",
            "12              4.0   56957.0\n",
            "13              4.1   57081.0\n",
            "14              4.5   61111.0\n",
            "15              4.9   67938.0\n",
            "16              5.1   66029.0\n",
            "17              5.3   83088.0\n",
            "18              5.9   81363.0\n",
            "19              6.0   93940.0\n",
            "20              6.8   91738.0\n",
            "21              7.1   98273.0\n",
            "22              7.9  101302.0\n",
            "23              8.2  113812.0\n",
            "24              8.7  109431.0\n",
            "25              9.0  105582.0\n",
            "26              9.5  116969.0\n",
            "27              9.6  112635.0\n",
            "28             10.3  122391.0\n",
            "29             10.5  121872.0\n"
          ]
        }
      ],
      "source": [
        "import pandas as pd\n",
        "d=pd.read_csv(\"/content/Salary_Data_799021028.csv\")\n",
        "print(d)"
      ]
    },
    {
      "cell_type": "code",
      "source": [
        "x=d['YearsExperience']\n",
        "y=d['Salary']"
      ],
      "metadata": {
        "id": "WkVGFjocQoYR"
      },
      "execution_count": 2,
      "outputs": []
    },
    {
      "cell_type": "code",
      "source": [
        "from sklearn.metrics import mean_squared_error,mean_absolute_error\n",
        "#print(mean_squared_error(9,8))\n",
        "import numpy as np\n",
        "y_true=y\n",
        "y_pred=[]\n",
        "#y1=300+350*x\n",
        "def mse(b0,b1):\n",
        "  y_pred=[]\n",
        "  for i in range(0,len(x)):\n",
        "    y_pred.append(b0+b1*x[i])\n",
        "  a=np.array(y_true)\n",
        "  b=np.array(y_pred)\n",
        "  #print(a,b)\n",
        "  return mean_absolute_error(a,b)"
      ],
      "metadata": {
        "id": "4nAAwFKNQp1u"
      },
      "execution_count": 3,
      "outputs": []
    },
    {
      "cell_type": "code",
      "source": [
        "er=[]\n",
        "for i in range(100,61000):\n",
        "  er.append(mse(i+12200,i+16000))"
      ],
      "metadata": {
        "id": "ft6KUIUFQp5N"
      },
      "execution_count": 4,
      "outputs": []
    },
    {
      "cell_type": "code",
      "source": [
        "g=np.arange(0,60900)\n",
        "er=np.array(er)\n",
        "#print(er)"
      ],
      "metadata": {
        "id": "Lav1KNxyQ5ue"
      },
      "execution_count": 5,
      "outputs": []
    },
    {
      "cell_type": "code",
      "source": [
        "import matplotlib.pyplot as plt\n",
        "plt.scatter(x,y)\n",
        "plt.plot(g,er)"
      ],
      "metadata": {
        "colab": {
          "base_uri": "https://localhost:8080/",
          "height": 282
        },
        "id": "VDOi3NIPQ6Hp",
        "outputId": "c3d31c34-8365-4957-e15d-51fe6cdfe7bf"
      },
      "execution_count": 6,
      "outputs": [
        {
          "output_type": "execute_result",
          "data": {
            "text/plain": [
              "[<matplotlib.lines.Line2D at 0x7f3cf3bfa550>]"
            ]
          },
          "metadata": {},
          "execution_count": 6
        },
        {
          "output_type": "display_data",
          "data": {
            "text/plain": [
              "<Figure size 432x288 with 1 Axes>"
            ],
            "image/png": "[encoded data removed]"
          },
          "metadata": {
            "needs_background": "light"
          }
        }
      ]
    },
    {
      "cell_type": "code",
      "source": [],
      "metadata": {
        "id": "lTjE6_OIQ6LD"
      },
      "execution_count": 6,
      "outputs": []
    }
  ]
}